{
 "cells": [
  {
   "cell_type": "code",
   "execution_count": 14,
   "metadata": {},
   "outputs": [
    {
     "name": "stdout",
     "output_type": "stream",
     "text": [
      "20385.5 km\n",
      "11007.312126060648 naut\n"
     ]
    }
   ],
   "source": [
    "import searoute as sr\n",
    "\n",
    "#Define origin and destination points:\n",
    "origin = [0.3515625, 50.064191736659104]\n",
    "destination = [117.42187500000001, 39.36827914916014]\n",
    "\n",
    "\n",
    "route = sr.searoute(origin, destination)\n",
    "# > Returns a GeoJSON LineString Feature\n",
    "# show route distance with unit\n",
    "print(\"{:.1f} {}\".format(route.properties['length'], route.properties['units']))\n",
    "\n",
    "# Optionally, define the units for the length calculation included in the properties object.\n",
    "# Defaults to km, can be can be 'm' = meters 'mi = miles 'ft' = feet 'in' = inches 'deg' = degrees\n",
    "# 'cen' = centimeters 'rad' = radians 'naut' = nautical 'yd' = yards\n",
    "routeMiles = sr.searoute(origin, destination, units=\"naut\")\n",
    "print(routeMiles.properties['length'], routeMiles.properties['units'])"
   ]
  },
  {
   "cell_type": "code",
   "execution_count": 15,
   "metadata": {},
   "outputs": [],
   "source": [
    "import folium\n",
    "\n",
    "# Initialize a map centered around the origin\n",
    "m = folium.Map(location=origin, zoom_start=2)\n",
    "\n",
    "# Extract coordinates from the GeoJSON route\n",
    "coordinates = route['geometry']['coordinates']\n",
    "\n",
    "# Add the route as a PolyLine to the map\n",
    "folium.PolyLine(locations=[(lat, lon) for lon, lat in coordinates], color='blue').add_to(m)\n",
    "\n",
    "# Display the map\n",
    "m.save(\"route_map.html\")\n"
   ]
  },
  {
   "cell_type": "code",
   "execution_count": 7,
   "metadata": {},
   "outputs": [],
   "source": [
    "import folium\n",
    "\n",
    "# Define origin and destination points\n",
    "origin = [50.064191736659104, 0.3515625]\n",
    "destination = [39.36827914916014, 117.42187500000001]\n",
    "\n",
    "# Initialize the map centered around the midpoint of the two points\n",
    "midpoint = [(origin[0] + destination[0]) / 2, (origin[1] + destination[1]) / 2]\n",
    "m = folium.Map(location=midpoint, zoom_start=2)\n",
    "\n",
    "# Add markers for origin and destination\n",
    "folium.Marker(location=origin, popup='Origin').add_to(m)\n",
    "folium.Marker(location=destination, popup='Destination').add_to(m)\n",
    "\n",
    "# Display the map\n",
    "m.save(\"coordinates_map.html\")\n"
   ]
  }
 ],
 "metadata": {
  "kernelspec": {
   "display_name": "venv",
   "language": "python",
   "name": "python3"
  },
  "language_info": {
   "codemirror_mode": {
    "name": "ipython",
    "version": 3
   },
   "file_extension": ".py",
   "mimetype": "text/x-python",
   "name": "python",
   "nbconvert_exporter": "python",
   "pygments_lexer": "ipython3",
   "version": "3.12.2"
  }
 },
 "nbformat": 4,
 "nbformat_minor": 2
}
